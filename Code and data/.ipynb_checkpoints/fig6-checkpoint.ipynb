{
 "cells": [
  {
   "cell_type": "code",
   "execution_count": 1,
   "metadata": {
    "executionInfo": {
     "elapsed": 574,
     "status": "ok",
     "timestamp": 1740660782949,
     "user": {
      "displayName": "dogyen ko (Kodo)",
      "userId": "17400671760216123133"
     },
     "user_tz": 0
    },
    "id": "7HTvZSehZWHC"
   },
   "outputs": [],
   "source": [
    "import zipfile\n",
    "import tensorflow as tf\n",
    "import os\n",
    "import pandas as pd\n",
    "import numpy as np\n",
    "import matplotlib.pyplot as plt\n",
    "import scipy.io\n",
    "from sklearn.model_selection import train_test_split\n",
    "from keras import initializers\n",
    "from sklearn.preprocessing import StandardScaler, MinMaxScaler\n",
    "from sklearn.linear_model import LinearRegression\n",
    "from sklearn.metrics import mean_squared_error\n",
    "from sklearn.ensemble import RandomForestRegressor, ExtraTreesRegressor"
   ]
  },
  {
   "cell_type": "code",
   "execution_count": 94,
   "metadata": {
    "executionInfo": {
     "elapsed": 465,
     "status": "ok",
     "timestamp": 1740660707935,
     "user": {
      "displayName": "dogyen ko (Kodo)",
      "userId": "17400671760216123133"
     },
     "user_tz": 0
    },
    "id": "JgV9QmQy8rRb"
   },
   "outputs": [],
   "source": [
    "# mat = scipy.io.loadmat('EQ13_data.mat')\n",
    "mat1 = scipy.io.loadmat('case1_random_forest.mat')\n",
    "mat2 = scipy.io.loadmat('case2_2nodes.mat')\n",
    "mat3 = scipy.io.loadmat('case3_extended_1000.mat')\n",
    "mat4 = scipy.io.loadmat('case4_quantum.mat')\n",
    "\n",
    "n1 = mat1['n1_selected']\n",
    "n2 = mat1['n2_selected']\n",
    "g2_case1 = mat1['g2']\n",
    "\n",
    "n1_case2 = mat2['n1_selected']\n",
    "n2_case2 = mat2['n2_selected']\n",
    "g2_case2 = mat2['g2']\n",
    "\n",
    "ns3 = mat3['ns']\n",
    "g2_case3 = abs(mat3['g2_a'])\n",
    "\n",
    "ns4 = mat4['all_ns']\n",
    "g2_case4 = abs(mat4['g2'])\n"
   ]
  },
  {
   "cell_type": "code",
   "execution_count": 123,
   "metadata": {},
   "outputs": [],
   "source": [
    "#Case1 10 points time multiplexing\n",
    "n11 = np.empty((np.shape(n1)[0], np.shape(n1)[1]), dtype=object)\n",
    "n22 = np.empty((np.shape(n2)[0], np.shape(n2)[1]), dtype=object)\n",
    "for i in range(np.shape(n1)[0]):\n",
    "  for j in range(np.shape(n1)[0]):\n",
    "    n11[i,j] = n1[i,j][0][0:10]\n",
    "    n22[i,j] = n2[i,j][0][0:10]\n",
    "\n",
    "g2_case1_re = []\n",
    "ns1_new = []\n",
    "for i in range(np.shape(n11)[0]):\n",
    "  for j in range(np.shape(n11)[0]):\n",
    "    multi_10 = np.concatenate((np.reshape(n11[i,j],10), np.reshape(n22[i,j],10)))\n",
    "    ns1_new.append(multi_10)\n",
    "    g2_case1_re.append(g2_case1[i,j])"
   ]
  },
  {
   "cell_type": "code",
   "execution_count": 138,
   "metadata": {},
   "outputs": [],
   "source": [
    "#Case2 10 points time multiplexing\n",
    "g2_case2_re = []\n",
    "ns2_new = []\n",
    "for i in range(number):\n",
    "    mutipleixing_10 = np.concatenate((np.reshape(n1_case2[0][i][0][0:10],10), np.reshape(n2_case2[0][i][0][0:10],10) ))\n",
    "    # input = input/sum(input)\n",
    "    ns2_new.append(mutipleixing_10)\n",
    "    g2_case2_re.append(g2_case2[0][i])\n",
    "    # g2_re.append(g2[0][i])\n",
    "    "
   ]
  },
  {
   "cell_type": "code",
   "execution_count": 139,
   "metadata": {},
   "outputs": [],
   "source": [
    "#Case3 10 points time multiplexing\n",
    "ns3_new = []\n",
    "g2_case3_re = []\n",
    "\n",
    "for i in range(1000):    \n",
    "    \n",
    "    #10 point time multiplexing for node1\n",
    "    node1_10 = ns3[0][i][0][0:10]\n",
    "    node2_10 = ns3[0][i][0][20:30]\n",
    "    ns3_new.append(np.concatenate([node1_10,node2_10]))\n",
    "    g2_case3_re.append(g2_case3[i][0])"
   ]
  },
  {
   "cell_type": "code",
   "execution_count": 140,
   "metadata": {},
   "outputs": [],
   "source": [
    "#Case4 10 points time multiplexing\n",
    "g2_re = []\n",
    "n_s = np.zeros((1000, 20))\n",
    "\n",
    "g2_case4_re = []\n",
    "ns4_new = []\n",
    "\n",
    "for i in range(np.shape(g2_case4)[0]):\n",
    "    ns4_new.append(np.concatenate([ns4[i][0:10],ns4[i][20:30]])) #Choosing only 10 multiplexing points in each 2 nodes\n",
    "    g2_case4_re.append(abs(g2_case4[i][0]))\n"
   ]
  },
  {
   "cell_type": "code",
   "execution_count": 142,
   "metadata": {
    "executionInfo": {
     "elapsed": 10,
     "status": "ok",
     "timestamp": 1740660873564,
     "user": {
      "displayName": "dogyen ko (Kodo)",
      "userId": "17400671760216123133"
     },
     "user_tz": 0
    },
    "id": "1yNGQjKIMUYi"
   },
   "outputs": [],
   "source": [
    "X_1 = np.array(ns1_new)\n",
    "Y_1 = np.reshape(g2_case1_re,(1024,1))\n",
    "X_train_1, X_test_1, Y_train_1, Y_test_1 = train_test_split(X_1,Y_1, test_size=0.25)\n",
    "\n",
    "X_2 = np.array(ns2_new)\n",
    "Y_2 = np.reshape(g2_case2_re,(1000,1))\n",
    "X_train_2, X_test_2, Y_train_2, Y_test_2 = train_test_split(X_2,Y_2, test_size=0.25)\n",
    "\n",
    "X_3 = np.array(ns3_new)\n",
    "Y_3 = np.reshape(g2_case3_re,(1000,1))\n",
    "X_train_3, X_test_3, Y_train_3, Y_test_3 = train_test_split(X_3,Y_3, test_size=0.25)\n",
    "\n",
    "X_4 = np.array(ns4_new)\n",
    "Y_4 = np.reshape(g2_case4_re,(1000,1))\n",
    "X_train_4, X_test_4, Y_train_4, Y_test_4 = train_test_split(X_4,Y_4, test_size=0.25)"
   ]
  },
  {
   "cell_type": "code",
   "execution_count": 143,
   "metadata": {},
   "outputs": [],
   "source": [
    "#Partitioning\n",
    "\n",
    "X_1_1 = X_1[0:256]\n",
    "X_1_2 = X_1[256:512]\n",
    "X_1_3 = X_1[512:768]\n",
    "X_1_4 = X_1[768:1024]\n",
    "Y_1_1 = Y_1[0:256]\n",
    "Y_1_2 = Y_1[256:512]\n",
    "Y_1_3 = Y_1[512:768]\n",
    "Y_1_4 = Y_1[768:1024]\n",
    "\n",
    "X_2_1 = X_2[0:250]\n",
    "X_2_2 = X_2[250:500]\n",
    "X_2_3 = X_2[500:750]\n",
    "X_2_4 = X_2[750:1000]\n",
    "Y_2_1 = Y_2[0:250]\n",
    "Y_2_2 = Y_2[250:500]\n",
    "Y_2_3 = Y_2[500:750]\n",
    "Y_2_4 = Y_2[750:1000]\n",
    "\n",
    "X_3_1 = X_3[0:250]\n",
    "X_3_2 = X_3[250:500]\n",
    "X_3_3 = X_3[500:750]\n",
    "X_3_4 = X_3[750:1000]\n",
    "Y_3_1 = Y_3[0:250]\n",
    "Y_3_2 = Y_3[250:500]\n",
    "Y_3_3 = Y_3[500:750]\n",
    "Y_3_4 = Y_3[750:1000]\n",
    "\n",
    "X_4_1 = X_4[0:250]\n",
    "X_4_2 = X_4[250:500]\n",
    "X_4_3 = X_4[500:750]\n",
    "X_4_4 = X_4[750:1000]\n",
    "Y_4_1 = Y_4[0:250]\n",
    "Y_4_2 = Y_4[250:500]\n",
    "Y_4_3 = Y_4[500:750]\n",
    "Y_4_4 = Y_4[750:1000]"
   ]
  },
  {
   "cell_type": "code",
   "execution_count": 144,
   "metadata": {},
   "outputs": [
    {
     "name": "stderr",
     "output_type": "stream",
     "text": [
      "C:\\Users\\kodo0\\.conda\\envs\\python3_6\\lib\\site-packages\\ipykernel_launcher.py:2: DataConversionWarning: A column-vector y was passed when a 1d array was expected. Please change the shape of y to (n_samples,), for example using ravel().\n",
      "  \n",
      "C:\\Users\\kodo0\\.conda\\envs\\python3_6\\lib\\site-packages\\ipykernel_launcher.py:26: DataConversionWarning: A column-vector y was passed when a 1d array was expected. Please change the shape of y to (n_samples,), for example using ravel().\n",
      "C:\\Users\\kodo0\\.conda\\envs\\python3_6\\lib\\site-packages\\ipykernel_launcher.py:43: DataConversionWarning: A column-vector y was passed when a 1d array was expected. Please change the shape of y to (n_samples,), for example using ravel().\n",
      "C:\\Users\\kodo0\\.conda\\envs\\python3_6\\lib\\site-packages\\ipykernel_launcher.py:60: DataConversionWarning: A column-vector y was passed when a 1d array was expected. Please change the shape of y to (n_samples,), for example using ravel().\n"
     ]
    }
   ],
   "source": [
    "regressor_1 = ExtraTreesRegressor()\n",
    "regressor_1.fit(X_train_1, Y_train_1)\n",
    "Y_predict_RFR1_1_1 = regressor_1.predict(X_1_1)\n",
    "Y_predict_RFR1_1_2 = regressor_1.predict(X_1_2) \n",
    "Y_predict_RFR1_1_3 = regressor_1.predict(X_1_3)\n",
    "Y_predict_RFR1_1_4 = regressor_1.predict(X_1_4)\n",
    "\n",
    "Y_predict_RFR1_2_1 = regressor_1.predict(X_2_1)\n",
    "Y_predict_RFR1_2_2 = regressor_1.predict(X_2_2) \n",
    "Y_predict_RFR1_2_3 = regressor_1.predict(X_2_3)\n",
    "Y_predict_RFR1_2_4 = regressor_1.predict(X_2_4)\n",
    "\n",
    "\n",
    "Y_predict_RFR1_3_1 = regressor_1.predict(X_3_1)\n",
    "Y_predict_RFR1_3_2 = regressor_1.predict(X_3_2) \n",
    "Y_predict_RFR1_3_3 = regressor_1.predict(X_3_3)\n",
    "Y_predict_RFR1_3_4 = regressor_1.predict(X_3_4)\n",
    "\n",
    "Y_predict_RFR1_4_1 = regressor_1.predict(X_4_1)\n",
    "Y_predict_RFR1_4_2 = regressor_1.predict(X_4_2) \n",
    "Y_predict_RFR1_4_3 = regressor_1.predict(X_4_3)\n",
    "Y_predict_RFR1_4_4 = regressor_1.predict(X_4_4)\n",
    "\n",
    "\n",
    "regressor_2 = ExtraTreesRegressor()\n",
    "regressor_2.fit(X_train_2, Y_train_2)\n",
    "Y_predict_RFR2_1_1 = regressor_2.predict(X_1_1)\n",
    "Y_predict_RFR2_1_2 = regressor_2.predict(X_1_2) \n",
    "Y_predict_RFR2_1_3 = regressor_2.predict(X_1_3)\n",
    "Y_predict_RFR2_1_4 = regressor_2.predict(X_1_4)\n",
    "\n",
    "Y_predict_RFR2_3_1 = regressor_2.predict(X_3_1)\n",
    "Y_predict_RFR2_3_2 = regressor_2.predict(X_3_2) \n",
    "Y_predict_RFR2_3_3 = regressor_2.predict(X_3_3)\n",
    "Y_predict_RFR2_3_4 = regressor_2.predict(X_3_4)\n",
    "\n",
    "Y_predict_RFR2_4_1 = regressor_2.predict(X_4_1)\n",
    "Y_predict_RFR2_4_2 = regressor_2.predict(X_4_2) \n",
    "Y_predict_RFR2_4_3 = regressor_2.predict(X_4_3)\n",
    "Y_predict_RFR2_4_4 = regressor_2.predict(X_4_4)\n",
    "\n",
    "regressor_3 = ExtraTreesRegressor()\n",
    "regressor_3.fit(X_train_3, Y_train_3)\n",
    "Y_predict_RFR3_1_1 = regressor_3.predict(X_1_1)\n",
    "Y_predict_RFR3_1_2 = regressor_3.predict(X_1_2) \n",
    "Y_predict_RFR3_1_3 = regressor_3.predict(X_1_3)\n",
    "Y_predict_RFR3_1_4 = regressor_3.predict(X_1_4)\n",
    "\n",
    "Y_predict_RFR3_2_1 = regressor_3.predict(X_2_1)\n",
    "Y_predict_RFR3_2_2 = regressor_3.predict(X_2_2) \n",
    "Y_predict_RFR3_2_3 = regressor_3.predict(X_2_3)\n",
    "Y_predict_RFR3_2_4 = regressor_3.predict(X_2_4)\n",
    "\n",
    "Y_predict_RFR3_4_1 = regressor_3.predict(X_4_1)\n",
    "Y_predict_RFR3_4_2 = regressor_3.predict(X_4_2) \n",
    "Y_predict_RFR3_4_3 = regressor_3.predict(X_4_3)\n",
    "Y_predict_RFR3_4_4 = regressor_3.predict(X_4_4)\n",
    "\n",
    "regressor_4 = ExtraTreesRegressor()\n",
    "regressor_4.fit(X_train_4, Y_train_4)\n",
    "Y_predict_RFR4_1_1 = regressor_4.predict(X_1_1)\n",
    "Y_predict_RFR4_1_2 = regressor_4.predict(X_1_2) \n",
    "Y_predict_RFR4_1_3 = regressor_4.predict(X_1_3)\n",
    "Y_predict_RFR4_1_4 = regressor_4.predict(X_1_4)\n",
    "\n",
    "Y_predict_RFR4_2_1 = regressor_4.predict(X_2_1)\n",
    "Y_predict_RFR4_2_2 = regressor_4.predict(X_2_2) \n",
    "Y_predict_RFR4_2_3 = regressor_4.predict(X_2_3)\n",
    "Y_predict_RFR4_2_4 = regressor_4.predict(X_2_4)\n",
    "\n",
    "Y_predict_RFR4_3_1 = regressor_4.predict(X_3_1)\n",
    "Y_predict_RFR4_3_2 = regressor_4.predict(X_3_2) \n",
    "Y_predict_RFR4_3_3 = regressor_4.predict(X_3_3)\n",
    "Y_predict_RFR4_3_4 = regressor_4.predict(X_3_4)"
   ]
  },
  {
   "cell_type": "code",
   "execution_count": 145,
   "metadata": {},
   "outputs": [],
   "source": [
    "def NMSE(Y_predict_RFR,Y_test_g2):\n",
    "    Nomin = sum(np.square(np.reshape(Y_test_g2,[len(Y_predict_RFR),]) - Y_predict_RFR))\n",
    "    denom = sum(np.square(np.reshape(Y_test_g2,[len(Y_predict_RFR),]) + Y_predict_RFR))\n",
    "\n",
    "#     Nomin_c = sum(np.square(np.reshape(Y_test_g2_c,[len(Y_predict_RFR_classic),]) - Y_predict_RFR_classic))\n",
    "#     denom_c = sum(np.square(np.reshape(Y_test_g2_c,[len(Y_predict_RFR_classic),]) + Y_predict_RFR_classic))\n",
    "    return Nomin/denom\n",
    "# print([Nomin/denom, Nomin_c/denom_c])"
   ]
  },
  {
   "cell_type": "code",
   "execution_count": 146,
   "metadata": {},
   "outputs": [
    {
     "data": {
      "text/plain": [
       "0.6121921557162723"
      ]
     },
     "execution_count": 146,
     "metadata": {},
     "output_type": "execute_result"
    }
   ],
   "source": [
    "NMSE(Y_predict_RFR1_2_1,Y_2_1)"
   ]
  },
  {
   "cell_type": "code",
   "execution_count": 147,
   "metadata": {},
   "outputs": [],
   "source": [
    "mmse12=[NMSE(Y_predict_RFR1_2_1, Y_2_1), NMSE(Y_predict_RFR1_2_2, Y_2_2), NMSE(Y_predict_RFR1_2_3, Y_2_3), NMSE(Y_predict_RFR1_2_4, Y_2_4)]\n",
    "mmse13=[NMSE(Y_predict_RFR1_3_1, Y_3_1), NMSE(Y_predict_RFR1_3_2, Y_3_2), NMSE(Y_predict_RFR1_3_3, Y_3_3), NMSE(Y_predict_RFR1_3_4, Y_3_4)]\n",
    "mmse14=[NMSE(Y_predict_RFR1_4_1, Y_4_1), NMSE(Y_predict_RFR1_4_2, Y_4_2), NMSE(Y_predict_RFR1_4_3, Y_4_3), NMSE(Y_predict_RFR1_4_4, Y_4_4)]\n",
    "\n",
    "mmse21=[NMSE(Y_predict_RFR2_1_1, Y_1_1), NMSE(Y_predict_RFR2_1_2, Y_1_2), NMSE(Y_predict_RFR2_1_3, Y_1_3), NMSE(Y_predict_RFR2_1_4, Y_1_4)]\n",
    "mmse23=[NMSE(Y_predict_RFR2_3_1, Y_3_1), NMSE(Y_predict_RFR2_3_2, Y_3_2), NMSE(Y_predict_RFR2_3_3, Y_3_3), NMSE(Y_predict_RFR2_3_4, Y_3_4)]\n",
    "mmse24=[NMSE(Y_predict_RFR2_4_1, Y_4_1), NMSE(Y_predict_RFR2_4_2, Y_4_2), NMSE(Y_predict_RFR2_4_3, Y_4_3), NMSE(Y_predict_RFR2_4_4, Y_4_4)]\n",
    "\n",
    "mmse31=[NMSE(Y_predict_RFR3_1_1, Y_1_1), NMSE(Y_predict_RFR3_1_2, Y_1_2), NMSE(Y_predict_RFR3_1_3, Y_1_3), NMSE(Y_predict_RFR3_1_4, Y_1_4)]\n",
    "mmse32=[NMSE(Y_predict_RFR3_2_1, Y_2_1), NMSE(Y_predict_RFR3_2_2, Y_2_2), NMSE(Y_predict_RFR3_2_3, Y_2_3), NMSE(Y_predict_RFR3_2_4, Y_2_4)]\n",
    "mmse34=[NMSE(Y_predict_RFR3_4_1, Y_4_1), NMSE(Y_predict_RFR3_4_2, Y_4_2), NMSE(Y_predict_RFR3_4_3, Y_4_3), NMSE(Y_predict_RFR3_4_4, Y_4_4)]\n",
    "\n",
    "mmse41=[NMSE(Y_predict_RFR4_1_1, Y_1_1), NMSE(Y_predict_RFR4_1_2, Y_1_2), NMSE(Y_predict_RFR4_1_3, Y_1_3), NMSE(Y_predict_RFR4_1_4, Y_1_4)]\n",
    "mmse42=[NMSE(Y_predict_RFR4_2_1, Y_2_1), NMSE(Y_predict_RFR4_2_2, Y_2_2), NMSE(Y_predict_RFR4_2_3, Y_2_3), NMSE(Y_predict_RFR4_2_4, Y_2_4)]\n",
    "mmse43=[NMSE(Y_predict_RFR4_3_1, Y_3_1), NMSE(Y_predict_RFR4_3_2, Y_3_2), NMSE(Y_predict_RFR4_3_3, Y_3_3), NMSE(Y_predict_RFR4_3_4, Y_3_4)]"
   ]
  },
  {
   "cell_type": "code",
   "execution_count": 148,
   "metadata": {},
   "outputs": [
    {
     "name": "stderr",
     "output_type": "stream",
     "text": [
      "C:\\Users\\kodo0\\.conda\\envs\\python3_6\\lib\\site-packages\\ipykernel_launcher.py:41: MatplotlibDeprecationWarning: Passing the minor parameter of set_ticks() positionally is deprecated since Matplotlib 3.2; the parameter will become keyword-only two minor releases later.\n",
      "C:\\Users\\kodo0\\.conda\\envs\\python3_6\\lib\\site-packages\\ipykernel_launcher.py:42: MatplotlibDeprecationWarning: Passing the minor parameter of set_ticks() positionally is deprecated since Matplotlib 3.2; the parameter will become keyword-only two minor releases later.\n"
     ]
    },
    {
     "data": {
      "image/png": "[encoded data removed]",
      "text/plain": [
       "<Figure size 720x720 with 1 Axes>"
      ]
     },
     "metadata": {
      "needs_background": "light"
     },
     "output_type": "display_data"
    }
   ],
   "source": [
    "import matplotlib.pyplot as plt\n",
    "from mpl_toolkits.mplot3d import Axes3D\n",
    "\n",
    "# Sample data\n",
    "subjects = ['Mathematics', 'Physics', 'Chemistry']\n",
    "student_name = ['A', 'B', 'C']\n",
    "marks = [[90, 95, 93],[75, 78, 70],[30, 25, 35]]\n",
    "\n",
    "# Custom colors for each student based on marks\n",
    "colors = {'A': 'green', 'B': 'yellow', 'C': 'red'}\n",
    "\n",
    "# Creating a 3D plot\n",
    "fig = plt.figure(figsize=(10,10))\n",
    "ax = fig.add_subplot(111, projection='3d')\n",
    "\n",
    "dx = 0.5\n",
    "dy = 0.05\n",
    "for i in range(4):\n",
    "    ax.bar3d(i+12, 0.15, 0, dx*1.5, dy*1.5, 0,color='yellow')\n",
    "    ax.bar3d(i+8, 0.15, 0, dx, dy, mmse12[i],color='tomato')\n",
    "    ax.bar3d(i+4, 0.15, 0, dx, dy, mmse13[i],color='tomato')\n",
    "    ax.bar3d(i, 0.15, 0, dx, dy, mmse14[i],color='tomato')\n",
    "\n",
    "    ax.bar3d(i+12.2, 0.65, 0, dx, dy, mmse21[i],color='k')\n",
    "    ax.bar3d(i+7.9, 0.65, 0, dx*1.5, dy*1.5, 0,color='yellow')\n",
    "    ax.bar3d(i+4, 0.65, 0, dx, dy, mmse23[i],color='k')\n",
    "    ax.bar3d(i, 0.65, 0, dx, dy, mmse24[i],color='k')\n",
    "\n",
    "    ax.bar3d(i+12, 1.15, 0, dx, dy, mmse31[i],color='b')\n",
    "    ax.bar3d(i+8, 1.15, 0, dx, dy, mmse32[i],color='b')\n",
    "    ax.bar3d(i+4-0.2, 1.15, 0, dx*1.5, dy*1.5, 0,color='yellow')\n",
    "    ax.bar3d(i, 1.15, 0, dx, dy, mmse34[i],color='b')\n",
    "\n",
    "    ax.bar3d(i+12, 1.65, 0, dx, dy, mmse41[i],color='m')\n",
    "    ax.bar3d(i+8, 1.65, 0, dx, dy, mmse42[i],color='m')\n",
    "    ax.bar3d(i+4, 1.65, 0, dx, dy, mmse43[i],color='m')\n",
    "    ax.bar3d(i-0.2, 1.65, 0, dx*1.5, dy*1.5, 0,color='#FFFF14')\n",
    "\n",
    "\n",
    "# ax.set_xticks([17,11.5,7.5,3.5,-1],\"\")\n",
    "ax.set_xticks([17,11.5,7.5,3.5,-1],\"\")\n",
    "ax.set_yticks([0,0.5,1.0,1.5,2],\"\")\n",
    "ax.set_zticks([0,1])\n",
    "ax.set_zlim([0,1])\n",
    "ax.tick_params(axis ='z',labelsize=20)\n",
    "# ax.set_zlabel(\"sssssss\")\n",
    "# Plotting 3D bars with custom colors\n",
    "# for i in range(len(subjects)):\n",
    "#    for j in range(len(student_name)):\n",
    "#       ax.bar3d(i, j, 0, 0.8, 0.8, marks[j][i], color=colors[student_name[j]])\n",
    "\n",
    "\n",
    "# Displaying the plot\n",
    "plt.savefig(\"histo.pdf\", format=\"pdf\", bbox_inches=\"tight\")\n",
    "plt.show()\n"
   ]
  },
  {
   "cell_type": "code",
   "execution_count": 149,
   "metadata": {},
   "outputs": [
    {
     "name": "stderr",
     "output_type": "stream",
     "text": [
      "C:\\Users\\kodo0\\.conda\\envs\\python3_6\\lib\\site-packages\\ipykernel_launcher.py:2: DataConversionWarning: A column-vector y was passed when a 1d array was expected. Please change the shape of y to (n_samples,), for example using ravel().\n",
      "  \n",
      "C:\\Users\\kodo0\\.conda\\envs\\python3_6\\lib\\site-packages\\ipykernel_launcher.py:26: DataConversionWarning: A column-vector y was passed when a 1d array was expected. Please change the shape of y to (n_samples,), for example using ravel().\n",
      "C:\\Users\\kodo0\\.conda\\envs\\python3_6\\lib\\site-packages\\ipykernel_launcher.py:43: DataConversionWarning: A column-vector y was passed when a 1d array was expected. Please change the shape of y to (n_samples,), for example using ravel().\n",
      "C:\\Users\\kodo0\\.conda\\envs\\python3_6\\lib\\site-packages\\ipykernel_launcher.py:60: DataConversionWarning: A column-vector y was passed when a 1d array was expected. Please change the shape of y to (n_samples,), for example using ravel().\n"
     ]
    }
   ],
   "source": [
    "regressor_1 = ExtraTreesRegressor()\n",
    "regressor_1.fit(X_train_1, Y_train_1)\n",
    "Y_predict_RFR1_1_1 = regressor_1.predict(X_1_1)\n",
    "Y_predict_RFR1_1_2 = regressor_1.predict(X_1_2) \n",
    "Y_predict_RFR1_1_3 = regressor_1.predict(X_1_3)\n",
    "Y_predict_RFR1_1_4 = regressor_1.predict(X_1_4)\n",
    "\n",
    "Y_predict_RFR1_2_1 = regressor_1.predict(X_2_1)\n",
    "Y_predict_RFR1_2_2 = regressor_1.predict(X_2_2) \n",
    "Y_predict_RFR1_2_3 = regressor_1.predict(X_2_3)\n",
    "Y_predict_RFR1_2_4 = regressor_1.predict(X_2_4)\n",
    "\n",
    "\n",
    "Y_predict_RFR1_3_1 = regressor_1.predict(X_3_1)\n",
    "Y_predict_RFR1_3_2 = regressor_1.predict(X_3_2) \n",
    "Y_predict_RFR1_3_3 = regressor_1.predict(X_3_3)\n",
    "Y_predict_RFR1_3_4 = regressor_1.predict(X_3_4)\n",
    "\n",
    "Y_predict_RFR1_4_1 = regressor_1.predict(X_4_1)\n",
    "Y_predict_RFR1_4_2 = regressor_1.predict(X_4_2) \n",
    "Y_predict_RFR1_4_3 = regressor_1.predict(X_4_3)\n",
    "Y_predict_RFR1_4_4 = regressor_1.predict(X_4_4)\n",
    "\n",
    "\n",
    "regressor_2 = ExtraTreesRegressor()\n",
    "regressor_2.fit(X_train_2, Y_train_2)\n",
    "Y_predict_RFR2_1_1 = regressor_2.predict(X_1_1)\n",
    "Y_predict_RFR2_1_2 = regressor_2.predict(X_1_2) \n",
    "Y_predict_RFR2_1_3 = regressor_2.predict(X_1_3)\n",
    "Y_predict_RFR2_1_4 = regressor_2.predict(X_1_4)\n",
    "\n",
    "Y_predict_RFR2_3_1 = regressor_2.predict(X_3_1)\n",
    "Y_predict_RFR2_3_2 = regressor_2.predict(X_3_2) \n",
    "Y_predict_RFR2_3_3 = regressor_2.predict(X_3_3)\n",
    "Y_predict_RFR2_3_4 = regressor_2.predict(X_3_4)\n",
    "\n",
    "Y_predict_RFR2_4_1 = regressor_2.predict(X_4_1)\n",
    "Y_predict_RFR2_4_2 = regressor_2.predict(X_4_2) \n",
    "Y_predict_RFR2_4_3 = regressor_2.predict(X_4_3)\n",
    "Y_predict_RFR2_4_4 = regressor_2.predict(X_4_4)\n",
    "\n",
    "regressor_3 = ExtraTreesRegressor()\n",
    "regressor_3.fit(X_train_3, Y_train_3)\n",
    "Y_predict_RFR3_1_1 = regressor_3.predict(X_1_1)\n",
    "Y_predict_RFR3_1_2 = regressor_3.predict(X_1_2) \n",
    "Y_predict_RFR3_1_3 = regressor_3.predict(X_1_3)\n",
    "Y_predict_RFR3_1_4 = regressor_3.predict(X_1_4)\n",
    "\n",
    "Y_predict_RFR3_2_1 = regressor_3.predict(X_2_1)\n",
    "Y_predict_RFR3_2_2 = regressor_3.predict(X_2_2) \n",
    "Y_predict_RFR3_2_3 = regressor_3.predict(X_2_3)\n",
    "Y_predict_RFR3_2_4 = regressor_3.predict(X_2_4)\n",
    "\n",
    "Y_predict_RFR3_4_1 = regressor_3.predict(X_4_1)\n",
    "Y_predict_RFR3_4_2 = regressor_3.predict(X_4_2) \n",
    "Y_predict_RFR3_4_3 = regressor_3.predict(X_4_3)\n",
    "Y_predict_RFR3_4_4 = regressor_3.predict(X_4_4)\n",
    "\n",
    "regressor_4 = ExtraTreesRegressor()\n",
    "regressor_4.fit(X_train_4, Y_train_4)\n",
    "Y_predict_RFR4_1_1 = regressor_4.predict(X_1_1)\n",
    "Y_predict_RFR4_1_2 = regressor_4.predict(X_1_2) \n",
    "Y_predict_RFR4_1_3 = regressor_4.predict(X_1_3)\n",
    "Y_predict_RFR4_1_4 = regressor_4.predict(X_1_4)\n",
    "\n",
    "Y_predict_RFR4_2_1 = regressor_4.predict(X_2_1)\n",
    "Y_predict_RFR4_2_2 = regressor_4.predict(X_2_2) \n",
    "Y_predict_RFR4_2_3 = regressor_4.predict(X_2_3)\n",
    "Y_predict_RFR4_2_4 = regressor_4.predict(X_2_4)\n",
    "\n",
    "Y_predict_RFR4_3_1 = regressor_4.predict(X_3_1)\n",
    "Y_predict_RFR4_3_2 = regressor_4.predict(X_3_2) \n",
    "Y_predict_RFR4_3_3 = regressor_4.predict(X_3_3)\n",
    "Y_predict_RFR4_3_4 = regressor_4.predict(X_3_4)"
   ]
  },
  {
   "cell_type": "code",
   "execution_count": 151,
   "metadata": {},
   "outputs": [
    {
     "name": "stdout",
     "output_type": "stream",
     "text": [
      "[0.0005957604377739496, 0.2466640703348059, 0.20792568875941414, 0.2109306872832726]\n",
      "[0.3198672670817139, 9.706078270188134e-09, 0.06359253210589315, 0.04820859675544768]\n",
      "[0.07729154658692114, 0.6048580448142189, 0.09252530135829772, 0.3059049515809027]\n",
      "[0.12192316334216038, 0.0781144402660938, 0.1275025910283488, 2.1227374045876378e-06]\n"
     ]
    }
   ],
   "source": [
    "error1 = [NMSE(Y_predict_RFR_1_1,Y_test_1),NMSE(Y_predict_RFR_2_1,Y_test_1),NMSE(Y_predict_RFR_3_1,Y_test_1),NMSE(Y_predict_RFR_4_1,Y_test_1)]\n",
    "error2 = [NMSE(Y_predict_RFR_1_2,Y_test_2),NMSE(Y_predict_RFR_2_2,Y_test_2),NMSE(Y_predict_RFR_3_2,Y_test_2),NMSE(Y_predict_RFR_4_2,Y_test_2)]\n",
    "error3 = [NMSE(Y_predict_RFR_1_3,Y_test_3),NMSE(Y_predict_RFR_2_3,Y_test_3),NMSE(Y_predict_RFR_3_3,Y_test_3),NMSE(Y_predict_RFR_4_3,Y_test_3)]\n",
    "error4 = [NMSE(Y_predict_RFR_1_4,Y_test_4),NMSE(Y_predict_RFR_2_4,Y_test_4),NMSE(Y_predict_RFR_3_4,Y_test_4),NMSE(Y_predict_RFR_4_4,Y_test_4)]\n",
    "\n",
    "print(error1)\n",
    "print(error2)\n",
    "print(error3)\n",
    "print(error4)"
   ]
  },
  {
   "cell_type": "code",
   "execution_count": null,
   "metadata": {},
   "outputs": [],
   "source": []
  }
 ],
 "metadata": {
  "accelerator": "GPU",
  "colab": {
   "gpuType": "T4",
   "provenance": []
  },
  "kernelspec": {
   "display_name": "Python 3",
   "language": "python",
   "name": "python3"
  },
  "language_info": {
   "codemirror_mode": {
    "name": "ipython",
    "version": 3
   },
   "file_extension": ".py",
   "mimetype": "text/x-python",
   "name": "python",
   "nbconvert_exporter": "python",
   "pygments_lexer": "ipython3",
   "version": "3.6.13"
  }
 },
 "nbformat": 4,
 "nbformat_minor": 4
}
