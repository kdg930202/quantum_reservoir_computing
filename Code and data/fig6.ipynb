{
 "cells": [
  {
   "cell_type": "markdown",
   "metadata": {
    "id": "kVEZklvVcAsU"
   },
   "source": [
    "## Preprocessing the dataset for regression\n",
    "1. Standardization : Change data into the distribution with mean 0 and std1\n",
    "\n",
    "$$x_{new} = \\frac{x-mean(X)}{SD(x)}$$\n",
    "\n",
    "2. Min-Max normalization : change date with max 1 and min 0\n",
    "\n",
    "$$x_{new} = \\frac{x-min(X)}{max(X)-min(X)}$$\n"
   ]
  },
  {
   "cell_type": "markdown",
   "metadata": {
    "id": "MQf8Pk-KcAsW"
   },
   "source": [
    "2025.1.15\n",
    "1. Try with three node\n",
    "\n",
    "2. Try Eq.(11)"
   ]
  },
  {
   "cell_type": "code",
   "execution_count": 3,
   "metadata": {},
   "outputs": [
    {
     "data": {
      "text/plain": [
       "'1.19.5'"
      ]
     },
     "execution_count": 3,
     "metadata": {},
     "output_type": "execute_result"
    }
   ],
   "source": [
    "import numpy\n",
    "numpy.__version__"
   ]
  },
  {
   "cell_type": "code",
   "execution_count": 4,
   "metadata": {},
   "outputs": [
    {
     "name": "stdout",
     "output_type": "stream",
     "text": [
      "3.6.13 |Anaconda, Inc.| (default, Mar 16 2021, 11:37:27) [MSC v.1916 64 bit (AMD64)]\n"
     ]
    }
   ],
   "source": [
    "import sys\n",
    "print(sys.version)"
   ]
  },
  {
   "cell_type": "code",
   "execution_count": 99,
   "metadata": {
    "executionInfo": {
     "elapsed": 574,
     "status": "ok",
     "timestamp": 1740660782949,
     "user": {
      "displayName": "dogyen ko (Kodo)",
      "userId": "17400671760216123133"
     },
     "user_tz": 0
    },
    "id": "7HTvZSehZWHC"
   },
   "outputs": [],
   "source": [
    "import zipfile\n",
    "import tensorflow as tf\n",
    "import os\n",
    "# import  imageio\n",
    "import pandas as pd\n",
    "import numpy as np\n",
    "import matplotlib.pyplot as plt\n",
    "# from keras.utils import to_categorical #For keras > 2.0\n",
    "# import cv2\n",
    "import scipy.io\n",
    "from sklearn.model_selection import train_test_split\n",
    "from keras import initializers\n",
    "from sklearn.preprocessing import StandardScaler, MinMaxScaler\n",
    "from sklearn.linear_model import LinearRegression\n",
    "from sklearn.metrics import mean_squared_error\n",
    "from sklearn.ensemble import RandomForestRegressor, ExtraTreesRegressor\n",
    "# import pandas as pd\n",
    "# import dataframe_image as dfi\n",
    "# import df2img\n"
   ]
  },
  {
   "cell_type": "code",
   "execution_count": 100,
   "metadata": {
    "executionInfo": {
     "elapsed": 465,
     "status": "ok",
     "timestamp": 1740660707935,
     "user": {
      "displayName": "dogyen ko (Kodo)",
      "userId": "17400671760216123133"
     },
     "user_tz": 0
    },
    "id": "JgV9QmQy8rRb"
   },
   "outputs": [],
   "source": [
    "# mat = scipy.io.loadmat('EQ13_data.mat')\n",
    "mat1 = scipy.io.loadmat('case1_random_forest.mat')\n",
    "mat2 = scipy.io.loadmat('case2_2nodes.mat')\n",
    "mat3 = scipy.io.loadmat('case3_quantum.mat')\n",
    "mat4 = scipy.io.loadmat('case4_quantum.mat')\n",
    "\n",
    "# mat_squ = scipy.io.loadmat('squeezed_va.mat')\n",
    "# mat_squ = scipy.io.loadmat('squeezed_va_narrow.mat')\n",
    "# mat_squ = scipy.io.loadmat('squeezed_va_1000.mat')\n",
    "# mat_m_2 = scipy.io.loadmat('case2_m2_1000.mat')\n",
    "\n",
    "# n_m_2 = mat_m_2['n_all']\n",
    "# g2_m_2 = mat_m_2['g2_m']\n",
    "\n",
    "n1 = mat1['n1_selected']\n",
    "n2 = mat1['n2_selected']\n",
    "g2_case1 = mat1['g2']\n",
    "\n",
    "n1_case2 = mat2['n1_selected']\n",
    "n2_case2 = mat2['n2_selected']\n",
    "g2_case2 = mat2['g2']\n",
    "\n",
    "ns3 = mat3['ns']\n",
    "g2_case3 = abs(mat3['g2_a'])\n",
    "\n",
    "ns4 = mat4['all_ns']\n",
    "g2_case4 = abs(mat4['g2'])\n"
   ]
  },
  {
   "cell_type": "code",
   "execution_count": 101,
   "metadata": {},
   "outputs": [],
   "source": [
    "ns2 = []\n",
    "for i in range(1000):\n",
    "    ns2.append(np.concatenate((n1_case2[0][i][0], n2_case2[0][i][0])))\n",
    "    "
   ]
  },
  {
   "cell_type": "code",
   "execution_count": 102,
   "metadata": {},
   "outputs": [
    {
     "data": {
      "text/plain": [
       "(1000, 40)"
      ]
     },
     "execution_count": 102,
     "metadata": {},
     "output_type": "execute_result"
    }
   ],
   "source": [
    "np.shape(ns2)"
   ]
  },
  {
   "cell_type": "code",
   "execution_count": 103,
   "metadata": {},
   "outputs": [
    {
     "data": {
      "text/plain": [
       "(1000, 16)"
      ]
     },
     "execution_count": 103,
     "metadata": {},
     "output_type": "execute_result"
    }
   ],
   "source": [
    "# ns1_new = np.zeros((1024, 16))\n",
    "ns2_new = np.zeros((1000, 16))\n",
    "ns3_new = np.zeros((1000, 16))\n",
    "ns4_new = np.zeros((1000, 16))\n",
    "np.shape(ns3_new)"
   ]
  },
  {
   "cell_type": "code",
   "execution_count": 104,
   "metadata": {},
   "outputs": [],
   "source": [
    "g2_case1_re = []\n",
    "ns1_new = []\n",
    "for i in range(np.shape(n1)[0]):\n",
    "  for j in range(np.shape(n1)[0]):\n",
    "    part = [] \n",
    "    for k in range(16):\n",
    "        if k%2 == 0:\n",
    "            whichone = np.reshape(n1[i][j],15)\n",
    "            part.append(whichone[k])\n",
    "    for k in range(16):\n",
    "        if k%2 == 0:\n",
    "            whichtwo = np.reshape(n2[i][j],15)\n",
    "            part.append(whichtwo[k])      \n",
    "    ns1_new.append(part)\n",
    "    g2_case1_re.append(g2_case1[i,j])"
   ]
  },
  {
   "cell_type": "code",
   "execution_count": 105,
   "metadata": {},
   "outputs": [],
   "source": [
    "# g2_case2_re = []\n",
    "# ns2_new = []\n",
    "# number = 1000\n",
    "# r = np.arange(0, 1, 0.001)\n",
    "# for i in range(number):\n",
    "# # for i in range(np.shape(n1)[1]):\n",
    "#     input_ = np.concatenate((np.reshape(n1_case2[0][i],len(n1_case2[0][0][0])), np.reshape(n2_case2[0][i],len(n2_case2[0][0][0]))))\n",
    "#     # input = input/sum(input)\n",
    "#     ns2_new.append(input_)\n",
    "#     # g2_re.append({g2[0][i]:r[i]})\n",
    "#     g2_case2_re.append(g2_case2[0][i])\n",
    "# np.shape(ns2_new)"
   ]
  },
  {
   "cell_type": "code",
   "execution_count": 106,
   "metadata": {},
   "outputs": [],
   "source": [
    "g2_case2_re = []\n",
    "g2_case3_re = []\n",
    "g2_case4_re = []\n",
    "for j in range(1000):    \n",
    "    aa = []\n",
    "    bb = []\n",
    "    cc = []\n",
    "    for i in range(40):\n",
    "        if i%2 == 0:\n",
    "            aa.append(ns4[j][i])\n",
    "            bb.append(ns3[0][j][0][i])\n",
    "            cc.append(ns2[j][i])\n",
    "    # print([len(aa),len(bb)])\n",
    "    aa = aa[2:len(aa)-2]\n",
    "    bb = bb[2:len(bb)-2]\n",
    "    cc = cc[2:len(cc)-2]\n",
    "    # print([len(aa),len(bb)])\n",
    "    ns4_new[j,:] = aa\n",
    "    ns3_new[j,:] = bb\n",
    "    ns2_new[j,:] = cc\n",
    "    g2_case2_re.append(g2_case2[0][j])\n",
    "    g2_case3_re.append(g2_case3[0][j])\n",
    "    g2_case4_re.append(g2_case4[j])\n",
    "# len(aa)"
   ]
  },
  {
   "cell_type": "code",
   "execution_count": 107,
   "metadata": {
    "executionInfo": {
     "elapsed": 10,
     "status": "ok",
     "timestamp": 1740660873564,
     "user": {
      "displayName": "dogyen ko (Kodo)",
      "userId": "17400671760216123133"
     },
     "user_tz": 0
    },
    "id": "1yNGQjKIMUYi"
   },
   "outputs": [],
   "source": [
    "X_1 = np.array(ns1_new)\n",
    "Y_1 = np.reshape(g2_case1_re,(1024,1))\n",
    "X_train_1, X_test_1, Y_train_1, Y_test_1 = train_test_split(X_1,Y_1, test_size=0.25)\n",
    "\n",
    "X_2 = np.array(ns2_new)\n",
    "Y_2 = np.reshape(g2_case2_re,(1000,1))\n",
    "X_train_2, X_test_2, Y_train_2, Y_test_2 = train_test_split(X_2,Y_2, test_size=0.25)\n",
    "\n",
    "X_3 = np.array(ns3_new)\n",
    "Y_3 = np.reshape(g2_case3_re,(1000,1))\n",
    "X_train_3, X_test_3, Y_train_3, Y_test_3 = train_test_split(X_3,Y_3, test_size=0.25)\n",
    "\n",
    "X_4 = np.array(ns4_new)\n",
    "Y_4 = np.reshape(g2_case4_re,(1000,1))\n",
    "X_train_4, X_test_4, Y_train_4, Y_test_4 = train_test_split(X_4,Y_4, test_size=0.25)"
   ]
  },
  {
   "cell_type": "code",
   "execution_count": 108,
   "metadata": {},
   "outputs": [],
   "source": [
    "\n",
    "\n",
    "X_1_1 = X_1[0:256]\n",
    "X_1_2 = X_1[256:512]\n",
    "X_1_3 = X_1[512:768]\n",
    "X_1_4 = X_1[768:1024]\n",
    "Y_1_1 = Y_1[0:256]\n",
    "Y_1_2 = Y_1[256:512]\n",
    "Y_1_3 = Y_1[512:768]\n",
    "Y_1_4 = Y_1[768:1024]\n",
    "\n",
    "X_2_1 = X_2[0:250]\n",
    "X_2_2 = X_2[250:500]\n",
    "X_2_3 = X_2[500:750]\n",
    "X_2_4 = X_2[750:1000]\n",
    "Y_2_1 = Y_2[0:250]\n",
    "Y_2_2 = Y_2[250:500]\n",
    "Y_2_3 = Y_2[500:750]\n",
    "Y_2_4 = Y_2[750:1000]\n",
    "\n",
    "X_3_1 = X_3[0:250]\n",
    "X_3_2 = X_3[250:500]\n",
    "X_3_3 = X_3[500:750]\n",
    "X_3_4 = X_3[750:1000]\n",
    "Y_3_1 = Y_3[0:250]\n",
    "Y_3_2 = Y_3[250:500]\n",
    "Y_3_3 = Y_3[500:750]\n",
    "Y_3_4 = Y_3[750:1000]\n",
    "\n",
    "X_4_1 = X_4[0:250]\n",
    "X_4_2 = X_4[250:500]\n",
    "X_4_3 = X_4[500:750]\n",
    "X_4_4 = X_4[750:1000]\n",
    "Y_4_1 = Y_4[0:250]\n",
    "Y_4_2 = Y_4[250:500]\n",
    "Y_4_3 = Y_4[500:750]\n",
    "Y_4_4 = Y_4[750:1000]"
   ]
  },
  {
   "cell_type": "code",
   "execution_count": 109,
   "metadata": {},
   "outputs": [
    {
     "name": "stderr",
     "output_type": "stream",
     "text": [
      "C:\\Users\\kodo0\\.conda\\envs\\python3_6\\lib\\site-packages\\ipykernel_launcher.py:2: DataConversionWarning: A column-vector y was passed when a 1d array was expected. Please change the shape of y to (n_samples,), for example using ravel().\n",
      "  \n",
      "C:\\Users\\kodo0\\.conda\\envs\\python3_6\\lib\\site-packages\\ipykernel_launcher.py:26: DataConversionWarning: A column-vector y was passed when a 1d array was expected. Please change the shape of y to (n_samples,), for example using ravel().\n",
      "C:\\Users\\kodo0\\.conda\\envs\\python3_6\\lib\\site-packages\\ipykernel_launcher.py:43: DataConversionWarning: A column-vector y was passed when a 1d array was expected. Please change the shape of y to (n_samples,), for example using ravel().\n",
      "C:\\Users\\kodo0\\.conda\\envs\\python3_6\\lib\\site-packages\\ipykernel_launcher.py:60: DataConversionWarning: A column-vector y was passed when a 1d array was expected. Please change the shape of y to (n_samples,), for example using ravel().\n"
     ]
    }
   ],
   "source": [
    "regressor_1 = ExtraTreesRegressor()\n",
    "regressor_1.fit(X_train_1, Y_train_1)\n",
    "Y_predict_RFR1_1_1 = regressor_1.predict(X_1_1)\n",
    "Y_predict_RFR1_1_2 = regressor_1.predict(X_1_2) \n",
    "Y_predict_RFR1_1_3 = regressor_1.predict(X_1_3)\n",
    "Y_predict_RFR1_1_4 = regressor_1.predict(X_1_4)\n",
    "\n",
    "Y_predict_RFR1_2_1 = regressor_1.predict(X_2_1)\n",
    "Y_predict_RFR1_2_2 = regressor_1.predict(X_2_2) \n",
    "Y_predict_RFR1_2_3 = regressor_1.predict(X_2_3)\n",
    "Y_predict_RFR1_2_4 = regressor_1.predict(X_2_4)\n",
    "\n",
    "\n",
    "Y_predict_RFR1_3_1 = regressor_1.predict(X_3_1)\n",
    "Y_predict_RFR1_3_2 = regressor_1.predict(X_3_2) \n",
    "Y_predict_RFR1_3_3 = regressor_1.predict(X_3_3)\n",
    "Y_predict_RFR1_3_4 = regressor_1.predict(X_3_4)\n",
    "\n",
    "Y_predict_RFR1_4_1 = regressor_1.predict(X_4_1)\n",
    "Y_predict_RFR1_4_2 = regressor_1.predict(X_4_2) \n",
    "Y_predict_RFR1_4_3 = regressor_1.predict(X_4_3)\n",
    "Y_predict_RFR1_4_4 = regressor_1.predict(X_4_4)\n",
    "\n",
    "\n",
    "regressor_2 = ExtraTreesRegressor()\n",
    "regressor_2.fit(X_train_2, Y_train_2)\n",
    "Y_predict_RFR2_1_1 = regressor_2.predict(X_1_1)\n",
    "Y_predict_RFR2_1_2 = regressor_2.predict(X_1_2) \n",
    "Y_predict_RFR2_1_3 = regressor_2.predict(X_1_3)\n",
    "Y_predict_RFR2_1_4 = regressor_2.predict(X_1_4)\n",
    "\n",
    "Y_predict_RFR2_3_1 = regressor_2.predict(X_3_1)\n",
    "Y_predict_RFR2_3_2 = regressor_2.predict(X_3_2) \n",
    "Y_predict_RFR2_3_3 = regressor_2.predict(X_3_3)\n",
    "Y_predict_RFR2_3_4 = regressor_2.predict(X_3_4)\n",
    "\n",
    "Y_predict_RFR2_4_1 = regressor_2.predict(X_4_1)\n",
    "Y_predict_RFR2_4_2 = regressor_2.predict(X_4_2) \n",
    "Y_predict_RFR2_4_3 = regressor_2.predict(X_4_3)\n",
    "Y_predict_RFR2_4_4 = regressor_2.predict(X_4_4)\n",
    "\n",
    "regressor_3 = ExtraTreesRegressor()\n",
    "regressor_3.fit(X_train_3, Y_train_3)\n",
    "Y_predict_RFR3_1_1 = regressor_3.predict(X_1_1)\n",
    "Y_predict_RFR3_1_2 = regressor_3.predict(X_1_2) \n",
    "Y_predict_RFR3_1_3 = regressor_3.predict(X_1_3)\n",
    "Y_predict_RFR3_1_4 = regressor_3.predict(X_1_4)\n",
    "\n",
    "Y_predict_RFR3_2_1 = regressor_3.predict(X_2_1)\n",
    "Y_predict_RFR3_2_2 = regressor_3.predict(X_2_2) \n",
    "Y_predict_RFR3_2_3 = regressor_3.predict(X_2_3)\n",
    "Y_predict_RFR3_2_4 = regressor_3.predict(X_2_4)\n",
    "\n",
    "Y_predict_RFR3_4_1 = regressor_3.predict(X_4_1)\n",
    "Y_predict_RFR3_4_2 = regressor_3.predict(X_4_2) \n",
    "Y_predict_RFR3_4_3 = regressor_3.predict(X_4_3)\n",
    "Y_predict_RFR3_4_4 = regressor_3.predict(X_4_4)\n",
    "\n",
    "regressor_4 = ExtraTreesRegressor()\n",
    "regressor_4.fit(X_train_4, Y_train_4)\n",
    "Y_predict_RFR4_1_1 = regressor_4.predict(X_1_1)\n",
    "Y_predict_RFR4_1_2 = regressor_4.predict(X_1_2) \n",
    "Y_predict_RFR4_1_3 = regressor_4.predict(X_1_3)\n",
    "Y_predict_RFR4_1_4 = regressor_4.predict(X_1_4)\n",
    "\n",
    "Y_predict_RFR4_2_1 = regressor_4.predict(X_2_1)\n",
    "Y_predict_RFR4_2_2 = regressor_4.predict(X_2_2) \n",
    "Y_predict_RFR4_2_3 = regressor_4.predict(X_2_3)\n",
    "Y_predict_RFR4_2_4 = regressor_4.predict(X_2_4)\n",
    "\n",
    "Y_predict_RFR4_3_1 = regressor_4.predict(X_3_1)\n",
    "Y_predict_RFR4_3_2 = regressor_4.predict(X_3_2) \n",
    "Y_predict_RFR4_3_3 = regressor_4.predict(X_3_3)\n",
    "Y_predict_RFR4_3_4 = regressor_4.predict(X_3_4)"
   ]
  },
  {
   "cell_type": "code",
   "execution_count": 110,
   "metadata": {},
   "outputs": [],
   "source": [
    "def NMSE(Y_predict_RFR,Y_test_g2):\n",
    "    Nomin = sum(np.square(np.reshape(Y_test_g2,[len(Y_predict_RFR),]) - Y_predict_RFR))\n",
    "    denom = sum(np.square(np.reshape(Y_test_g2,[len(Y_predict_RFR),]) + Y_predict_RFR))\n",
    "\n",
    "#     Nomin_c = sum(np.square(np.reshape(Y_test_g2_c,[len(Y_predict_RFR_classic),]) - Y_predict_RFR_classic))\n",
    "#     denom_c = sum(np.square(np.reshape(Y_test_g2_c,[len(Y_predict_RFR_classic),]) + Y_predict_RFR_classic))\n",
    "    return Nomin/denom\n",
    "# print([Nomin/denom, Nomin_c/denom_c])"
   ]
  },
  {
   "cell_type": "code",
   "execution_count": 111,
   "metadata": {},
   "outputs": [
    {
     "data": {
      "text/plain": [
       "0.5221095423610599"
      ]
     },
     "execution_count": 111,
     "metadata": {},
     "output_type": "execute_result"
    }
   ],
   "source": [
    "NMSE(Y_predict_RFR1_2_1,Y_2_1)"
   ]
  },
  {
   "cell_type": "code",
   "execution_count": 112,
   "metadata": {},
   "outputs": [],
   "source": [
    "mmse12=[NMSE(Y_predict_RFR1_2_1, Y_2_1), NMSE(Y_predict_RFR1_2_2, Y_2_2), NMSE(Y_predict_RFR1_2_3, Y_2_3), NMSE(Y_predict_RFR1_2_4, Y_2_4)]\n",
    "mmse13=[NMSE(Y_predict_RFR1_3_1, Y_3_1), NMSE(Y_predict_RFR1_3_2, Y_3_2), NMSE(Y_predict_RFR1_3_3, Y_3_3), NMSE(Y_predict_RFR1_3_4, Y_3_4)]\n",
    "mmse14=[NMSE(Y_predict_RFR1_4_1, Y_4_1), NMSE(Y_predict_RFR1_4_2, Y_4_2), NMSE(Y_predict_RFR1_4_3, Y_4_3), NMSE(Y_predict_RFR1_4_4, Y_4_4)]\n",
    "\n",
    "mmse21=[NMSE(Y_predict_RFR2_1_1, Y_1_1), NMSE(Y_predict_RFR2_1_2, Y_1_2), NMSE(Y_predict_RFR2_1_3, Y_1_3), NMSE(Y_predict_RFR2_1_4, Y_1_4)]\n",
    "mmse23=[NMSE(Y_predict_RFR2_3_1, Y_3_1), NMSE(Y_predict_RFR2_3_2, Y_3_2), NMSE(Y_predict_RFR2_3_3, Y_3_3), NMSE(Y_predict_RFR2_3_4, Y_3_4)]\n",
    "mmse24=[NMSE(Y_predict_RFR2_4_1, Y_4_1), NMSE(Y_predict_RFR2_4_2, Y_4_2), NMSE(Y_predict_RFR2_4_3, Y_4_3), NMSE(Y_predict_RFR2_4_4, Y_4_4)]\n",
    "\n",
    "mmse31=[NMSE(Y_predict_RFR3_1_1, Y_1_1), NMSE(Y_predict_RFR3_1_2, Y_1_2), NMSE(Y_predict_RFR3_1_3, Y_1_3), NMSE(Y_predict_RFR3_1_4, Y_1_4)]\n",
    "mmse32=[NMSE(Y_predict_RFR3_2_1, Y_2_1), NMSE(Y_predict_RFR3_2_2, Y_2_2), NMSE(Y_predict_RFR3_2_3, Y_2_3), NMSE(Y_predict_RFR3_2_4, Y_2_4)]\n",
    "mmse34=[NMSE(Y_predict_RFR3_4_1, Y_4_1), NMSE(Y_predict_RFR3_4_2, Y_4_2), NMSE(Y_predict_RFR3_4_3, Y_4_3), NMSE(Y_predict_RFR3_4_4, Y_4_4)]\n",
    "\n",
    "mmse41=[NMSE(Y_predict_RFR4_1_1, Y_1_1), NMSE(Y_predict_RFR4_1_2, Y_1_2), NMSE(Y_predict_RFR4_1_3, Y_1_3), NMSE(Y_predict_RFR4_1_4, Y_1_4)]\n",
    "mmse42=[NMSE(Y_predict_RFR4_2_1, Y_2_1), NMSE(Y_predict_RFR4_2_2, Y_2_2), NMSE(Y_predict_RFR4_2_3, Y_2_3), NMSE(Y_predict_RFR4_2_4, Y_2_4)]\n",
    "mmse43=[NMSE(Y_predict_RFR4_3_1, Y_3_1), NMSE(Y_predict_RFR4_3_2, Y_3_2), NMSE(Y_predict_RFR4_3_3, Y_3_3), NMSE(Y_predict_RFR4_3_4, Y_3_4)]"
   ]
  },
  {
   "cell_type": "code",
   "execution_count": 113,
   "metadata": {},
   "outputs": [
    {
     "name": "stderr",
     "output_type": "stream",
     "text": [
      "C:\\Users\\kodo0\\.conda\\envs\\python3_6\\lib\\site-packages\\ipykernel_launcher.py:41: MatplotlibDeprecationWarning: Passing the minor parameter of set_ticks() positionally is deprecated since Matplotlib 3.2; the parameter will become keyword-only two minor releases later.\n",
      "C:\\Users\\kodo0\\.conda\\envs\\python3_6\\lib\\site-packages\\ipykernel_launcher.py:42: MatplotlibDeprecationWarning: Passing the minor parameter of set_ticks() positionally is deprecated since Matplotlib 3.2; the parameter will become keyword-only two minor releases later.\n"
     ]
    },
    {
     "data": {
      "image/png": "[encoded data removed]",
      "text/plain": [
       "<Figure size 720x720 with 1 Axes>"
      ]
     },
     "metadata": {
      "needs_background": "light"
     },
     "output_type": "display_data"
    }
   ],
   "source": [
    "import matplotlib.pyplot as plt\n",
    "from mpl_toolkits.mplot3d import Axes3D\n",
    "\n",
    "# Sample data\n",
    "subjects = ['Mathematics', 'Physics', 'Chemistry']\n",
    "student_name = ['A', 'B', 'C']\n",
    "marks = [[90, 95, 93],[75, 78, 70],[30, 25, 35]]\n",
    "\n",
    "# Custom colors for each student based on marks\n",
    "colors = {'A': 'green', 'B': 'yellow', 'C': 'red'}\n",
    "\n",
    "# Creating a 3D plot\n",
    "fig = plt.figure(figsize=(10,10))\n",
    "ax = fig.add_subplot(111, projection='3d')\n",
    "\n",
    "dx = 0.5\n",
    "dy = 0.05\n",
    "for i in range(4):\n",
    "    ax.bar3d(i+12, 0.15, 0, dx*1.5, dy*1.5, 0,color='yellow')\n",
    "    ax.bar3d(i+8, 0.15, 0, dx, dy, mmse12[i],color='tomato')\n",
    "    ax.bar3d(i+4, 0.15, 0, dx, dy, mmse13[i],color='tomato')\n",
    "    ax.bar3d(i, 0.15, 0, dx, dy, mmse14[i],color='tomato')\n",
    "\n",
    "    ax.bar3d(i+12.2, 0.65, 0, dx, dy, mmse21[i],color='k')\n",
    "    ax.bar3d(i+7.9, 0.65, 0, dx*1.5, dy*1.5, 0,color='yellow')\n",
    "    ax.bar3d(i+4, 0.65, 0, dx, dy, mmse23[i],color='k')\n",
    "    ax.bar3d(i, 0.65, 0, dx, dy, mmse24[i],color='k')\n",
    "\n",
    "    ax.bar3d(i+12, 1.15, 0, dx, dy, mmse31[i],color='b')\n",
    "    ax.bar3d(i+8, 1.15, 0, dx, dy, mmse32[i],color='b')\n",
    "    ax.bar3d(i+4-0.2, 1.15, 0, dx*1.5, dy*1.5, 0,color='yellow')\n",
    "    ax.bar3d(i, 1.15, 0, dx, dy, mmse34[i],color='b')\n",
    "\n",
    "    ax.bar3d(i+12, 1.65, 0, dx, dy, mmse41[i],color='m')\n",
    "    ax.bar3d(i+8, 1.65, 0, dx, dy, mmse42[i],color='m')\n",
    "    ax.bar3d(i+4, 1.65, 0, dx, dy, mmse43[i],color='m')\n",
    "    ax.bar3d(i-0.2, 1.65, 0, dx*1.5, dy*1.5, 0,color='#FFFF14')\n",
    "\n",
    "\n",
    "# ax.set_xticks([17,11.5,7.5,3.5,-1],\"\")\n",
    "ax.set_xticks([17,11.5,7.5,3.5,-1],\"\")\n",
    "ax.set_yticks([0,0.5,1.0,1.5,2],\"\")\n",
    "ax.set_zticks([0,1])\n",
    "ax.set_zlim([0,1])\n",
    "ax.tick_params(axis ='z',labelsize=20)\n",
    "# ax.set_zlabel(\"sssssss\")\n",
    "# Plotting 3D bars with custom colors\n",
    "# for i in range(len(subjects)):\n",
    "#    for j in range(len(student_name)):\n",
    "#       ax.bar3d(i, j, 0, 0.8, 0.8, marks[j][i], color=colors[student_name[j]])\n",
    "\n",
    "\n",
    "# Displaying the plot\n",
    "plt.savefig(\"histo.pdf\", format=\"pdf\", bbox_inches=\"tight\")\n",
    "plt.show()\n"
   ]
  },
  {
   "cell_type": "code",
   "execution_count": 114,
   "metadata": {},
   "outputs": [
    {
     "data": {
      "text/plain": [
       "[4.8177077645478774e-05, 0.0001512156021266316, 0.0004344863404446152]"
      ]
     },
     "execution_count": 114,
     "metadata": {},
     "output_type": "execute_result"
    }
   ],
   "source": [
    "[mse(Y_predict_RFR1_1_1, Y_1_1), mse(Y_predict_RFR1_1_2, Y_1_2), mse(Y_predict_RFR1_1_3, Y_1_3)]"
   ]
  },
  {
   "cell_type": "code",
   "execution_count": 115,
   "metadata": {},
   "outputs": [
    {
     "name": "stderr",
     "output_type": "stream",
     "text": [
      "C:\\Users\\kodo0\\.conda\\envs\\python3_6\\lib\\site-packages\\ipykernel_launcher.py:2: DataConversionWarning: A column-vector y was passed when a 1d array was expected. Please change the shape of y to (n_samples,), for example using ravel().\n",
      "  \n",
      "C:\\Users\\kodo0\\.conda\\envs\\python3_6\\lib\\site-packages\\ipykernel_launcher.py:26: DataConversionWarning: A column-vector y was passed when a 1d array was expected. Please change the shape of y to (n_samples,), for example using ravel().\n",
      "C:\\Users\\kodo0\\.conda\\envs\\python3_6\\lib\\site-packages\\ipykernel_launcher.py:43: DataConversionWarning: A column-vector y was passed when a 1d array was expected. Please change the shape of y to (n_samples,), for example using ravel().\n",
      "C:\\Users\\kodo0\\.conda\\envs\\python3_6\\lib\\site-packages\\ipykernel_launcher.py:60: DataConversionWarning: A column-vector y was passed when a 1d array was expected. Please change the shape of y to (n_samples,), for example using ravel().\n"
     ]
    }
   ],
   "source": [
    "regressor_1 = ExtraTreesRegressor()\n",
    "regressor_1.fit(X_train_1, Y_train_1)\n",
    "Y_predict_RFR1_1_1 = regressor_1.predict(X_1_1)\n",
    "Y_predict_RFR1_1_2 = regressor_1.predict(X_1_2) \n",
    "Y_predict_RFR1_1_3 = regressor_1.predict(X_1_3)\n",
    "Y_predict_RFR1_1_4 = regressor_1.predict(X_1_4)\n",
    "\n",
    "Y_predict_RFR1_2_1 = regressor_1.predict(X_2_1)\n",
    "Y_predict_RFR1_2_2 = regressor_1.predict(X_2_2) \n",
    "Y_predict_RFR1_2_3 = regressor_1.predict(X_2_3)\n",
    "Y_predict_RFR1_2_4 = regressor_1.predict(X_2_4)\n",
    "\n",
    "\n",
    "Y_predict_RFR1_3_1 = regressor_1.predict(X_3_1)\n",
    "Y_predict_RFR1_3_2 = regressor_1.predict(X_3_2) \n",
    "Y_predict_RFR1_3_3 = regressor_1.predict(X_3_3)\n",
    "Y_predict_RFR1_3_4 = regressor_1.predict(X_3_4)\n",
    "\n",
    "Y_predict_RFR1_4_1 = regressor_1.predict(X_4_1)\n",
    "Y_predict_RFR1_4_2 = regressor_1.predict(X_4_2) \n",
    "Y_predict_RFR1_4_3 = regressor_1.predict(X_4_3)\n",
    "Y_predict_RFR1_4_4 = regressor_1.predict(X_4_4)\n",
    "\n",
    "\n",
    "regressor_2 = ExtraTreesRegressor()\n",
    "regressor_2.fit(X_train_2, Y_train_2)\n",
    "Y_predict_RFR2_1_1 = regressor_2.predict(X_1_1)\n",
    "Y_predict_RFR2_1_2 = regressor_2.predict(X_1_2) \n",
    "Y_predict_RFR2_1_3 = regressor_2.predict(X_1_3)\n",
    "Y_predict_RFR2_1_4 = regressor_2.predict(X_1_4)\n",
    "\n",
    "Y_predict_RFR2_3_1 = regressor_2.predict(X_3_1)\n",
    "Y_predict_RFR2_3_2 = regressor_2.predict(X_3_2) \n",
    "Y_predict_RFR2_3_3 = regressor_2.predict(X_3_3)\n",
    "Y_predict_RFR2_3_4 = regressor_2.predict(X_3_4)\n",
    "\n",
    "Y_predict_RFR2_4_1 = regressor_2.predict(X_4_1)\n",
    "Y_predict_RFR2_4_2 = regressor_2.predict(X_4_2) \n",
    "Y_predict_RFR2_4_3 = regressor_2.predict(X_4_3)\n",
    "Y_predict_RFR2_4_4 = regressor_2.predict(X_4_4)\n",
    "\n",
    "regressor_3 = ExtraTreesRegressor()\n",
    "regressor_3.fit(X_train_3, Y_train_3)\n",
    "Y_predict_RFR3_1_1 = regressor_3.predict(X_1_1)\n",
    "Y_predict_RFR3_1_2 = regressor_3.predict(X_1_2) \n",
    "Y_predict_RFR3_1_3 = regressor_3.predict(X_1_3)\n",
    "Y_predict_RFR3_1_4 = regressor_3.predict(X_1_4)\n",
    "\n",
    "Y_predict_RFR3_2_1 = regressor_3.predict(X_2_1)\n",
    "Y_predict_RFR3_2_2 = regressor_3.predict(X_2_2) \n",
    "Y_predict_RFR3_2_3 = regressor_3.predict(X_2_3)\n",
    "Y_predict_RFR3_2_4 = regressor_3.predict(X_2_4)\n",
    "\n",
    "Y_predict_RFR3_4_1 = regressor_3.predict(X_4_1)\n",
    "Y_predict_RFR3_4_2 = regressor_3.predict(X_4_2) \n",
    "Y_predict_RFR3_4_3 = regressor_3.predict(X_4_3)\n",
    "Y_predict_RFR3_4_4 = regressor_3.predict(X_4_4)\n",
    "\n",
    "regressor_4 = ExtraTreesRegressor()\n",
    "regressor_4.fit(X_train_4, Y_train_4)\n",
    "Y_predict_RFR4_1_1 = regressor_4.predict(X_1_1)\n",
    "Y_predict_RFR4_1_2 = regressor_4.predict(X_1_2) \n",
    "Y_predict_RFR4_1_3 = regressor_4.predict(X_1_3)\n",
    "Y_predict_RFR4_1_4 = regressor_4.predict(X_1_4)\n",
    "\n",
    "Y_predict_RFR4_2_1 = regressor_4.predict(X_2_1)\n",
    "Y_predict_RFR4_2_2 = regressor_4.predict(X_2_2) \n",
    "Y_predict_RFR4_2_3 = regressor_4.predict(X_2_3)\n",
    "Y_predict_RFR4_2_4 = regressor_4.predict(X_2_4)\n",
    "\n",
    "Y_predict_RFR4_3_1 = regressor_4.predict(X_3_1)\n",
    "Y_predict_RFR4_3_2 = regressor_4.predict(X_3_2) \n",
    "Y_predict_RFR4_3_3 = regressor_4.predict(X_3_3)\n",
    "Y_predict_RFR4_3_4 = regressor_4.predict(X_3_4)"
   ]
  },
  {
   "cell_type": "code",
   "execution_count": 116,
   "metadata": {},
   "outputs": [],
   "source": [
    "# regressor_2 = RandomForestRegressor()\n",
    "# regressor_2.fit(X_train_2, Y_train_2)\n",
    "\n",
    "\n",
    "# Y_predict_RFR_m_2 = regressor_2.predict(n_m_2_new) \n",
    "# # Y_predict_RFR_m_1 = regressor_2.predict(X_test_2) \n",
    "\n",
    "\n",
    "# regressor_m_2= RandomForestRegressor()\n",
    "# regressor_m_2.fit(n_m_2_new, g2_m_2)\n",
    "\n",
    "# Y_predict_RFR_m_2_test_m_1 = regressor_m_2.predict(X_test_2) \n",
    "# # Y_predict_RFR_m_1 = regressor_2.predict(X_test_2) \n",
    "\n",
    "# # Y_predict_RFR_squ_1 = regressor_squ.predict(X_test_1)\n",
    "# # Y_predict_RFR_squ_2 = regressor_squ.predict(X_test_2) \n",
    "# # Y_predict_RFR_squ_3 = regressor_squ.predict(X_test_3)\n",
    "# # Y_predict_RFR_squ_4 = regressor_squ.predict(X_test_4)\n"
   ]
  },
  {
   "cell_type": "code",
   "execution_count": 117,
   "metadata": {},
   "outputs": [],
   "source": [
    "# plt.scatter(Y_test_2, Y_predict_RFR_m_2_test_m_1)\n",
    "# mean_squared_error(Y_test_2,Y_predict_RFR_m_2_test_m_1)"
   ]
  },
  {
   "cell_type": "code",
   "execution_count": 118,
   "metadata": {},
   "outputs": [],
   "source": [
    "# plt.subplot(2,2,1)\n",
    "# plt.scatter(Y_test_1, Y_predict_RFR_squ_1)\n",
    "# plt.subplot(2,2,2)\n",
    "# plt.scatter(Y_test_2, Y_predict_RFR_squ_2)\n",
    "# plt.subplot(2,2,3)\n",
    "# plt.scatter(Y_test_3, Y_predict_RFR_squ_3)\n",
    "# plt.subplot(2,2,4)\n",
    "# plt.scatter(Y_test_4, Y_predict_RFR_squ_4)\n",
    "# # plt.scatter(Y_test_2, Y_predict_RFR_squ_1)\n",
    "# # plt.scatter(Y_test_3, Y_predict_RFR_squ_1)\n",
    "# # plt.scatter(Y_test_4, Y_predict_RFR_squ_1)\n",
    "# # plt.scatter(g2_squ, Y_predict_2_squ)\n",
    "# # plt.scatter(g2_squ, Y_predict_3_squ)\n",
    "# # plt.scatter(g2_squ, Y_predict_4_squ)"
   ]
  },
  {
   "cell_type": "code",
   "execution_count": 119,
   "metadata": {
    "colab": {
     "base_uri": "https://localhost:8080/"
    },
    "executionInfo": {
     "elapsed": 1783,
     "status": "ok",
     "timestamp": 1740660888747,
     "user": {
      "displayName": "dogyen ko (Kodo)",
      "userId": "17400671760216123133"
     },
     "user_tz": 0
    },
    "id": "rcyHnE3bWjTf",
    "outputId": "cd5f0e39-d195-42e0-8ffe-6ed3dd0de0ae"
   },
   "outputs": [
    {
     "name": "stderr",
     "output_type": "stream",
     "text": [
      "C:\\Users\\kodo0\\.conda\\envs\\python3_6\\lib\\site-packages\\ipykernel_launcher.py:2: DataConversionWarning: A column-vector y was passed when a 1d array was expected. Please change the shape of y to (n_samples,), for example using ravel().\n",
      "  \n",
      "C:\\Users\\kodo0\\.conda\\envs\\python3_6\\lib\\site-packages\\ipykernel_launcher.py:5: DataConversionWarning: A column-vector y was passed when a 1d array was expected. Please change the shape of y to (n_samples,), for example using ravel().\n",
      "  \"\"\"\n",
      "C:\\Users\\kodo0\\.conda\\envs\\python3_6\\lib\\site-packages\\ipykernel_launcher.py:8: DataConversionWarning: A column-vector y was passed when a 1d array was expected. Please change the shape of y to (n_samples,), for example using ravel().\n",
      "  \n",
      "C:\\Users\\kodo0\\.conda\\envs\\python3_6\\lib\\site-packages\\ipykernel_launcher.py:11: DataConversionWarning: A column-vector y was passed when a 1d array was expected. Please change the shape of y to (n_samples,), for example using ravel().\n",
      "  # This is added back by InteractiveShellApp.init_path()\n"
     ]
    }
   ],
   "source": [
    "regressor_1 = ExtraTreesRegressor()\n",
    "regressor_1.fit(X_train_1, Y_train_1)\n",
    "\n",
    "regressor_2 = ExtraTreesRegressor()\n",
    "regressor_2.fit(X_train_2, Y_train_2)\n",
    "\n",
    "regressor_3 = ExtraTreesRegressor()\n",
    "regressor_3.fit(X_train_3, Y_train_3)\n",
    "\n",
    "regressor_4 = ExtraTreesRegressor()\n",
    "regressor_4.fit(X_train_4, Y_train_4)\n",
    "\n",
    "Y_predict_RFR_1_1 = regressor_1.predict(X_test_1)\n",
    "Y_predict_RFR_1_2 = regressor_1.predict(X_test_2) \n",
    "Y_predict_RFR_1_3 = regressor_1.predict(X_test_3)\n",
    "Y_predict_RFR_1_4 = regressor_1.predict(X_test_4)\n",
    "# Y_predict_1_squ = regressor_1.predict(n_squ_new)\n",
    "\n",
    "Y_predict_RFR_2_1 = regressor_2.predict(X_test_1)\n",
    "Y_predict_RFR_2_2 = regressor_2.predict(X_test_2)\n",
    "Y_predict_RFR_2_3 = regressor_2.predict(X_test_3)\n",
    "Y_predict_RFR_2_4 = regressor_2.predict(X_test_4)\n",
    "# Y_predict_2_squ = regressor_2.predict(n_squ_new)\n",
    "\n",
    "Y_predict_RFR_3_1 = regressor_3.predict(X_test_1)\n",
    "Y_predict_RFR_3_2 = regressor_3.predict(X_test_2)\n",
    "Y_predict_RFR_3_3 = regressor_3.predict(X_test_3)\n",
    "Y_predict_RFR_3_4 = regressor_3.predict(X_test_4)\n",
    "# Y_predict_3_squ = regressor_3.predict(n_squ_new)\n",
    "\n",
    "Y_predict_RFR_4_1 = regressor_4.predict(X_test_1)\n",
    "Y_predict_RFR_4_2 = regressor_4.predict(X_test_2)\n",
    "Y_predict_RFR_4_3 = regressor_4.predict(X_test_3)\n",
    "Y_predict_RFR_4_4 = regressor_4.predict(X_test_4)\n",
    "# Y_predict_4_squ = regressor_4.predict(n_squ_new)"
   ]
  },
  {
   "cell_type": "code",
   "execution_count": 120,
   "metadata": {},
   "outputs": [],
   "source": [
    "# plt.scatter(g2_squ, Y_predict_1_squ)\n",
    "# plt.scatter(g2_squ, Y_predict_2_squ)\n",
    "# plt.scatter(g2_squ, Y_predict_3_squ)\n",
    "# plt.scatter(g2_squ, Y_predict_4_squ)"
   ]
  },
  {
   "cell_type": "code",
   "execution_count": 121,
   "metadata": {},
   "outputs": [
    {
     "name": "stdout",
     "output_type": "stream",
     "text": [
      "[0.0007093220928116121, 0.19893510749695792, 0.1903885478311622, 0.1686792934308665]\n"
     ]
    },
    {
     "data": {
      "image/png": "[encoded data removed]",
      "text/plain": [
       "<Figure size 432x288 with 1 Axes>"
      ]
     },
     "metadata": {
      "needs_background": "light"
     },
     "output_type": "display_data"
    }
   ],
   "source": [
    "plt.scatter(Y_test_1, Y_predict_RFR_1_1, label='Train1_Test1', color='k')\n",
    "plt.scatter(Y_test_1, Y_predict_RFR_2_1, label='Train1_Test2', color='violet')\n",
    "plt.scatter(Y_test_1, Y_predict_RFR_3_1, label='Train1_Test3', color='salmon')\n",
    "plt.scatter(Y_test_1, Y_predict_RFR_4_1, label='Train1_Test4', color='cornflowerblue')\n",
    "error1 = [NMSE(Y_predict_RFR_1_1,Y_test_1),NMSE(Y_predict_RFR_2_1,Y_test_1),NMSE(Y_predict_RFR_3_1,Y_test_1),NMSE(Y_predict_RFR_4_1,Y_test_1)]\n",
    "print(error1)\n",
    "plt.legend()\n",
    "plt.savefig('train1.png')"
   ]
  },
  {
   "cell_type": "code",
   "execution_count": null,
   "metadata": {},
   "outputs": [],
   "source": []
  },
  {
   "cell_type": "code",
   "execution_count": 122,
   "metadata": {},
   "outputs": [
    {
     "name": "stdout",
     "output_type": "stream",
     "text": [
      "[0.3463137379650812, 1.3975029484265581e-08, 0.28504164417990746, 0.07077444577217779]\n"
     ]
    },
    {
     "data": {
      "image/png": "[encoded data removed]",
      "text/plain": [
       "<Figure size 432x288 with 1 Axes>"
      ]
     },
     "metadata": {
      "needs_background": "light"
     },
     "output_type": "display_data"
    }
   ],
   "source": [
    "plt.scatter(Y_test_2, Y_predict_RFR_1_2, label='Train2_Test1', color='violet')\n",
    "plt.scatter(Y_test_2, Y_predict_RFR_2_2, label='Train2_Test2', color='k')\n",
    "plt.scatter(Y_test_2, Y_predict_RFR_3_2, label='Train2_Test3', color='salmon')\n",
    "plt.scatter(Y_test_2, Y_predict_RFR_4_2, label='Train2_Test4', color='cornflowerblue')\n",
    "error2 = [NMSE(Y_predict_RFR_1_2,Y_test_2),NMSE(Y_predict_RFR_2_2,Y_test_2),NMSE(Y_predict_RFR_3_2,Y_test_2),NMSE(Y_predict_RFR_4_2,Y_test_2)]\n",
    "print(error2)\n",
    "plt.legend()\n",
    "plt.savefig('train2.png')"
   ]
  },
  {
   "cell_type": "code",
   "execution_count": 97,
   "metadata": {},
   "outputs": [
    {
     "name": "stdout",
     "output_type": "stream",
     "text": [
      "[0.19072652551234445, 0.5058024441653468, 0.0008466428874088384, 0.21102673118622797]\n"
     ]
    },
    {
     "data": {
      "image/png": "[encoded data removed]",
      "text/plain": [
       "<Figure size 432x288 with 1 Axes>"
      ]
     },
     "metadata": {
      "needs_background": "light"
     },
     "output_type": "display_data"
    }
   ],
   "source": [
    "plt.scatter(Y_test_3, Y_predict_RFR_1_3, label='Train3_Test2', color='violet')\n",
    "plt.scatter(Y_test_3, Y_predict_RFR_2_3, label='Train3_Test2', color='salmon')\n",
    "plt.scatter(Y_test_3, Y_predict_RFR_3_3, label='Train3_Test3', color='k')\n",
    "plt.scatter(Y_test_3, Y_predict_RFR_4_3, label='Train3_Test4', color='cornflowerblue')\n",
    "error3 = [NMSE(Y_predict_RFR_1_3,Y_test_3),NMSE(Y_predict_RFR_2_3,Y_test_3),NMSE(Y_predict_RFR_3_3,Y_test_3),NMSE(Y_predict_RFR_4_3,Y_test_3)]\n",
    "print(error3)\n",
    "plt.legend()\n",
    "plt.savefig('train3.png')"
   ]
  },
  {
   "cell_type": "code",
   "execution_count": 98,
   "metadata": {},
   "outputs": [
    {
     "name": "stdout",
     "output_type": "stream",
     "text": [
      "[0.12172178563926224, 0.08536988108087025, 0.2503286698634571, 7.552003334548046e-07]\n"
     ]
    },
    {
     "data": {
      "image/png": "[encoded data removed]",
      "text/plain": [
       "<Figure size 432x288 with 1 Axes>"
      ]
     },
     "metadata": {
      "needs_background": "light"
     },
     "output_type": "display_data"
    }
   ],
   "source": [
    "plt.scatter(Y_test_4, Y_predict_RFR_1_4, label='Train4_Test1', color='violet')\n",
    "plt.scatter(Y_test_4, Y_predict_RFR_2_4, label='Train4_Test2', color='salmon')\n",
    "plt.scatter(Y_test_4, Y_predict_RFR_3_4, label='Train4_Test3', color='cornflowerblue')\n",
    "plt.scatter(Y_test_4, Y_predict_RFR_4_4, label='Train4_Test4', color='k')\n",
    "error4 = [NMSE(Y_predict_RFR_1_4,Y_test_4),NMSE(Y_predict_RFR_2_4,Y_test_4),NMSE(Y_predict_RFR_3_4,Y_test_4),NMSE(Y_predict_RFR_4_4,Y_test_4)]\n",
    "print(error4)\n",
    "plt.legend()\n",
    "plt.savefig('train4.png')"
   ]
  },
  {
   "cell_type": "code",
   "execution_count": 83,
   "metadata": {},
   "outputs": [],
   "source": [
    "def draw_color_cell(x,color):\n",
    "    color = f'background-color:{color}'\n",
    "    return color"
   ]
  },
  {
   "cell_type": "code",
   "execution_count": 87,
   "metadata": {
    "scrolled": true
   },
   "outputs": [
    {
     "ename": "NameError",
     "evalue": "name 'data' is not defined",
     "output_type": "error",
     "traceback": [
      "\u001b[1;31m---------------------------------------------------------------------------\u001b[0m",
      "\u001b[1;31mNameError\u001b[0m                                 Traceback (most recent call last)",
      "\u001b[1;32m<ipython-input-87-1f2357bb4b20>\u001b[0m in \u001b[0;36m<module>\u001b[1;34m\u001b[0m\n\u001b[1;32m----> 1\u001b[1;33m \u001b[0mframe\u001b[0m \u001b[1;33m=\u001b[0m \u001b[0mpd\u001b[0m\u001b[1;33m.\u001b[0m\u001b[0mDataFrame\u001b[0m\u001b[1;33m(\u001b[0m\u001b[0mdata\u001b[0m\u001b[1;33m,\u001b[0m\u001b[0mindex\u001b[0m \u001b[1;33m=\u001b[0m \u001b[1;33m[\u001b[0m\u001b[1;34m'case1'\u001b[0m\u001b[1;33m,\u001b[0m \u001b[1;34m'case2'\u001b[0m\u001b[1;33m,\u001b[0m \u001b[1;34m'case3'\u001b[0m\u001b[1;33m,\u001b[0m \u001b[1;34m'case4'\u001b[0m\u001b[1;33m]\u001b[0m\u001b[1;33m)\u001b[0m\u001b[1;33m\u001b[0m\u001b[1;33m\u001b[0m\u001b[0m\n\u001b[0m\u001b[0;32m      2\u001b[0m \u001b[1;31m# frame.style.applymap(draw_color_cell,color='#ff9090',subset=pd.IndexSlice['case1',['case1'],'case2',['case2']])\u001b[0m\u001b[1;33m\u001b[0m\u001b[1;33m\u001b[0m\u001b[1;33m\u001b[0m\u001b[0m\n\u001b[0;32m      3\u001b[0m \u001b[1;31m# frame.style.applymap(draw_color_cell,color='#ff9090',subset=pd.IndexSlice['case2',['case2']])\u001b[0m\u001b[1;33m\u001b[0m\u001b[1;33m\u001b[0m\u001b[1;33m\u001b[0m\u001b[0m\n\u001b[0;32m      4\u001b[0m \u001b[1;31m# frame.style.applymap(draw_color_cell,color='#ff9090',subset=pd.IndexSlice['case3',['case3']])\u001b[0m\u001b[1;33m\u001b[0m\u001b[1;33m\u001b[0m\u001b[1;33m\u001b[0m\u001b[0m\n\u001b[0;32m      5\u001b[0m \u001b[1;31m# frame.style.applymap(draw_color_cell,color='#ff9090',subset=pd.IndexSlice['case4',['case4']])\u001b[0m\u001b[1;33m\u001b[0m\u001b[1;33m\u001b[0m\u001b[1;33m\u001b[0m\u001b[0m\n",
      "\u001b[1;31mNameError\u001b[0m: name 'data' is not defined"
     ]
    }
   ],
   "source": [
    "frame = pd.DataFrame(data,index = ['case1', 'case2', 'case3', 'case4'])\n",
    "# frame.style.applymap(draw_color_cell,color='#ff9090',subset=pd.IndexSlice['case1',['case1'],'case2',['case2']])\n",
    "# frame.style.applymap(draw_color_cell,color='#ff9090',subset=pd.IndexSlice['case2',['case2']])\n",
    "# frame.style.applymap(draw_color_cell,color='#ff9090',subset=pd.IndexSlice['case3',['case3']])\n",
    "# frame.style.applymap(draw_color_cell,color='#ff9090',subset=pd.IndexSlice['case4',['case4']])\n",
    "def highlight_diag(df):\n",
    "    a = np.full(df.shape, '', dtype='<U24')\n",
    "    np.fill_diagonal(a, 'background-color: yellow')\n",
    "    return pd.DataFrame(a, index=df.index, columns=df.columns)\n",
    "\n",
    "frame.style.apply(highlight_diag, axis=None)\n",
    "# frame\n",
    "# dfi.export(frame, 'df.png')\n",
    "# fig = df2img.plot_dataframe(frame, fig_size=(500, 140))\n",
    "\n",
    "# df2img.save_dataframe(fig=fig, filename=\"plot1.png\")"
   ]
  },
  {
   "cell_type": "code",
   "execution_count": 182,
   "metadata": {},
   "outputs": [
    {
     "ename": "NameError",
     "evalue": "name 'frame' is not defined",
     "output_type": "error",
     "traceback": [
      "\u001b[1;31m---------------------------------------------------------------------------\u001b[0m",
      "\u001b[1;31mNameError\u001b[0m                                 Traceback (most recent call last)",
      "Cell \u001b[1;32mIn[182], line 1\u001b[0m\n\u001b[1;32m----> 1\u001b[0m frame\u001b[38;5;241m.\u001b[39mindex\n",
      "\u001b[1;31mNameError\u001b[0m: name 'frame' is not defined"
     ]
    }
   ],
   "source": [
    "frame.index"
   ]
  },
  {
   "cell_type": "code",
   "execution_count": null,
   "metadata": {},
   "outputs": [],
   "source": []
  }
 ],
 "metadata": {
  "accelerator": "GPU",
  "colab": {
   "gpuType": "T4",
   "provenance": []
  },
  "kernelspec": {
   "display_name": "Python 3",
   "language": "python",
   "name": "python3"
  },
  "language_info": {
   "codemirror_mode": {
    "name": "ipython",
    "version": 3
   },
   "file_extension": ".py",
   "mimetype": "text/x-python",
   "name": "python",
   "nbconvert_exporter": "python",
   "pygments_lexer": "ipython3",
   "version": "3.6.13"
  }
 },
 "nbformat": 4,
 "nbformat_minor": 4
}
